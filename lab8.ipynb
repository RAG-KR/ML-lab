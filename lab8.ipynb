{
  "nbformat": 4,
  "nbformat_minor": 0,
  "metadata": {
    "colab": {
      "provenance": []
    },
    "kernelspec": {
      "name": "python3",
      "display_name": "Python 3"
    },
    "language_info": {
      "name": "python"
    }
  },
  "cells": [
    {
      "cell_type": "markdown",
      "source": [
        "a) Implement Random forest ensemble method on a given dataset.\n",
        "b) Implement Boosting ensemble method on a given dataset."
      ],
      "metadata": {
        "id": "HwP0lQcUJUFZ"
      }
    },
    {
      "cell_type": "code",
      "execution_count": 1,
      "metadata": {
        "colab": {
          "base_uri": "https://localhost:8080/"
        },
        "id": "Q110H7kPHQ6d",
        "outputId": "2b907d07-f572-40af-e349-58c21c1c61f1"
      },
      "outputs": [
        {
          "output_type": "stream",
          "name": "stdout",
          "text": [
            "Random Forest Accuracy: 0.25\n"
          ]
        }
      ],
      "source": [
        "#chatgpt example\n",
        "\n",
        "import pandas as pd\n",
        "from sklearn.model_selection import train_test_split\n",
        "from sklearn.ensemble import RandomForestClassifier\n",
        "from sklearn.metrics import accuracy_score\n",
        "\n",
        "# Load the cricket dataset\n",
        "cricket_df = pd.read_csv('/content/cricket_dataset.csv')\n",
        "\n",
        "# Separate features and target variable\n",
        "X = cricket_df.drop(columns=['Player Name', 'Player Type'])\n",
        "y = cricket_df['Player Type']\n",
        "\n",
        "# Split the data into training and testing sets\n",
        "X_train, X_test, y_train, y_test = train_test_split(X, y, test_size=0.2, random_state=42)\n",
        "\n",
        "# Implement Random Forest Classifier\n",
        "random_forest = RandomForestClassifier(n_estimators=100, random_state=42)\n",
        "random_forest.fit(X_train, y_train)\n",
        "rf_predictions = random_forest.predict(X_test)\n",
        "rf_accuracy = accuracy_score(y_test, rf_predictions)\n",
        "print(\"Random Forest Accuracy:\", rf_accuracy)\n"
      ]
    },
    {
      "cell_type": "code",
      "source": [
        "# Import scikit-learn dataset library\n",
        "from sklearn import datasets\n",
        "\n",
        "# Load dataset\n",
        "iris = datasets.load_iris()\n",
        "\n",
        "# print the label species(setosa ,\n",
        "# versicolor , virginica )\n",
        "print(iris.target_names)\n",
        "\n",
        "# print the names of the four features\n",
        "print(iris.feature_names)\n",
        "\n",
        "# print the iris data(top 5 records)\n",
        "print(iris.data[0:5])\n",
        "\n",
        "# print the iris labels ( 0:setosa ,\n",
        "# 1:versicolor , 2:viriginica)\n",
        "print(iris.target)\n",
        "\n",
        "# Creating a DataFrame of given iris dataset.\n",
        "import pandas as pd\n",
        "data = pd.DataFrame({\n",
        "    'sepal length': iris.data[:, 0],\n",
        "    'sepal width': iris.data[:, 1],\n",
        "    'petal length': iris.data[:, 2],\n",
        "    'petal width': iris.data[:, 3],\n",
        "    'species': iris.target\n",
        "})\n",
        "\n",
        "data.head()\n",
        "\n",
        "# Import train_test_split function\n",
        "from sklearn.model_selection import train_test_split\n",
        "\n",
        "X = data[['sepal length', 'sepal width', 'petal length', 'petal width']] # Features\n",
        "y = data['species'] # Labels\n",
        "\n",
        "# Split dataset into training set and test set\n",
        "X_train, X_test, y_train, y_test = train_test_split(X, y, test_size=0.3) # 70% training and 30% test\n",
        "\n",
        "# Import Random Forest Model\n",
        "from sklearn.ensemble import RandomForestClassifier\n",
        "\n",
        "# Create a Gaussian Classifier\n",
        "clf = RandomForestClassifier(n_estimators=100)\n",
        "\n",
        "# Train the model using the training sets\n",
        "clf.fit(X_train, y_train)\n",
        "\n",
        "# Predict the response for test dataset\n",
        "y_pred = clf.predict(X_test)\n",
        "\n",
        "# Import scikit-learn metrics\n",
        "# module for accuracy calculation\n",
        "from sklearn import metrics\n",
        "\n",
        "# Model Accuracy, how often is the classifier correct?\n",
        "print(\"Accuracy:\", metrics.accuracy_score(y_test, y_pred))\n",
        "\n",
        "# Number of right values predicted right\n",
        "# and wrong values predicted wrong\n",
        "confusion_matrix = metrics.confusion_matrix(y_test, y_pred)\n",
        "print(\"Confusion Matrix:\")\n",
        "print(confusion_matrix)\n"
      ],
      "metadata": {
        "colab": {
          "base_uri": "https://localhost:8080/"
        },
        "id": "Ezl9KoPTKYRt",
        "outputId": "736c9a98-6b5c-40e4-87a7-9e9d99af0696"
      },
      "execution_count": 4,
      "outputs": [
        {
          "output_type": "stream",
          "name": "stdout",
          "text": [
            "['setosa' 'versicolor' 'virginica']\n",
            "['sepal length (cm)', 'sepal width (cm)', 'petal length (cm)', 'petal width (cm)']\n",
            "[[5.1 3.5 1.4 0.2]\n",
            " [4.9 3.  1.4 0.2]\n",
            " [4.7 3.2 1.3 0.2]\n",
            " [4.6 3.1 1.5 0.2]\n",
            " [5.  3.6 1.4 0.2]]\n",
            "[0 0 0 0 0 0 0 0 0 0 0 0 0 0 0 0 0 0 0 0 0 0 0 0 0 0 0 0 0 0 0 0 0 0 0 0 0\n",
            " 0 0 0 0 0 0 0 0 0 0 0 0 0 1 1 1 1 1 1 1 1 1 1 1 1 1 1 1 1 1 1 1 1 1 1 1 1\n",
            " 1 1 1 1 1 1 1 1 1 1 1 1 1 1 1 1 1 1 1 1 1 1 1 1 1 1 2 2 2 2 2 2 2 2 2 2 2\n",
            " 2 2 2 2 2 2 2 2 2 2 2 2 2 2 2 2 2 2 2 2 2 2 2 2 2 2 2 2 2 2 2 2 2 2 2 2 2\n",
            " 2 2]\n",
            "Accuracy: 0.8888888888888888\n",
            "Confusion Matrix:\n",
            "[[10  0  0]\n",
            " [ 0 15  1]\n",
            " [ 0  4 15]]\n"
          ]
        }
      ]
    },
    {
      "cell_type": "markdown",
      "source": [
        "boosting.py from chatgpt\n"
      ],
      "metadata": {
        "id": "0hvyaHrHLD_M"
      }
    },
    {
      "cell_type": "code",
      "source": [
        "import pandas as pd\n",
        "from sklearn.model_selection import train_test_split\n",
        "from sklearn.ensemble import GradientBoostingClassifier\n",
        "from sklearn.metrics import accuracy_score\n",
        "\n",
        "# Load the cricket dataset\n",
        "cricket_df = pd.read_csv('/content/cricket_dataset.csv')\n",
        "\n",
        "# Separate features and target variable\n",
        "X = cricket_df.drop(columns=['Player Name', 'Player Type'])\n",
        "y = cricket_df['Player Type']\n",
        "\n",
        "# Split the data into training and testing sets\n",
        "X_train, X_test, y_train, y_test = train_test_split(X, y, test_size=0.2, random_state=42)\n",
        "\n",
        "# Implement Gradient Boosting Classifier\n",
        "boosting = GradientBoostingClassifier(n_estimators=100, learning_rate=0.1, random_state=42)\n",
        "boosting.fit(X_train, y_train)\n",
        "boosting_predictions = boosting.predict(X_test)\n",
        "boosting_accuracy = accuracy_score(y_test, boosting_predictions)\n",
        "print(\"Boosting Accuracy:\", boosting_accuracy)\n"
      ],
      "metadata": {
        "colab": {
          "base_uri": "https://localhost:8080/"
        },
        "id": "thM6TWzbLGk0",
        "outputId": "295ee9a7-d61a-4043-c5d1-51a780d687ed"
      },
      "execution_count": 7,
      "outputs": [
        {
          "output_type": "stream",
          "name": "stdout",
          "text": [
            "Boosting Accuracy: 0.35\n"
          ]
        }
      ]
    }
  ]
}